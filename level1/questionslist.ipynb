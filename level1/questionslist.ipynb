{
 "cells": [
  {
   "cell_type": "code",
   "execution_count": 2,
   "metadata": {},
   "outputs": [
    {
     "ename": "AttributeError",
     "evalue": "'builtin_function_or_method' object has no attribute 'num'",
     "output_type": "error",
     "traceback": [
      "\u001b[1;31m---------------------------------------------------------------------------\u001b[0m",
      "\u001b[1;31mAttributeError\u001b[0m                            Traceback (most recent call last)",
      "Cell \u001b[1;32mIn[2], line 4\u001b[0m\n\u001b[0;32m      2\u001b[0m \u001b[39mfor\u001b[39;00m i \u001b[39min\u001b[39;00m \u001b[39mrange\u001b[39m(\u001b[39m3\u001b[39m, \u001b[39m15\u001b[39m, \u001b[39m2\u001b[39m):\n\u001b[0;32m      3\u001b[0m \tnum\u001b[39m.\u001b[39mappend(i)\n\u001b[1;32m----> 4\u001b[0m \u001b[39mprint\u001b[39;49m\u001b[39m.\u001b[39;49mnum\n",
      "\u001b[1;31mAttributeError\u001b[0m: 'builtin_function_or_method' object has no attribute 'num'"
     ]
    }
   ],
   "source": [
    "num = []\n",
    "for i in range(3, 15, 2):\n",
    "\tnum.append(i)\n",
    "print.num\n"
   ]
  },
  {
   "cell_type": "code",
   "execution_count": 3,
   "metadata": {},
   "outputs": [
    {
     "name": "stdout",
     "output_type": "stream",
     "text": [
      "[6, 4, 7, 8, 5]\n"
     ]
    }
   ],
   "source": [
    "lst = []\n",
    "  \n",
    "# number of elements as input\n",
    "n = int(input(\"Enter number of elements : \"))\n",
    "  \n",
    "# iterating till the range\n",
    "for i in range(0, n):\n",
    "    ele = int(input())\n",
    "    # adding the element\n",
    "    lst.append(ele)  \n",
    "  \n",
    "print(lst)\n"
   ]
  },
  {
   "cell_type": "code",
   "execution_count": null,
   "metadata": {},
   "outputs": [],
   "source": []
  }
 ],
 "metadata": {
  "kernelspec": {
   "display_name": "base",
   "language": "python",
   "name": "python3"
  },
  "language_info": {
   "codemirror_mode": {
    "name": "ipython",
    "version": 3
   },
   "file_extension": ".py",
   "mimetype": "text/x-python",
   "name": "python",
   "nbconvert_exporter": "python",
   "pygments_lexer": "ipython3",
   "version": "3.10.9"
  },
  "orig_nbformat": 4,
  "vscode": {
   "interpreter": {
    "hash": "56e3476c73dcb391798bdd977ca61f66e01d065bd4ec1e90029acd5578b7564b"
   }
  }
 },
 "nbformat": 4,
 "nbformat_minor": 2
}
